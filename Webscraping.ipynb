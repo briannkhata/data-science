{
 "cells": [
  {
   "cell_type": "code",
   "execution_count": 131,
   "id": "640038c9",
   "metadata": {},
   "outputs": [],
   "source": [
    "#imports\n",
    "import requests\n",
    "import html5lib\n",
    "from bs4 import BeautifulSoup\n",
    "\n",
    "URL = \"https://hec.ac.mw/scholarships/\"\n",
    "page = requests.get(URL)"
   ]
  },
  {
   "cell_type": "code",
   "execution_count": 134,
   "id": "3feb8853",
   "metadata": {},
   "outputs": [],
   "source": [
    "soup = BeautifulSoup(page.text,'html5lib')"
   ]
  },
  {
   "cell_type": "code",
   "execution_count": 148,
   "id": "d0c5c303",
   "metadata": {},
   "outputs": [],
   "source": [
    "#Arrays for the header\n",
    "s_names = []\n",
    "post_dates = []\n",
    "closure_date = []\n",
    "results = soup.find_all('div', class_ = 'scholar-content-box')\n",
    "\n",
    "length = len(results)\n",
    "\n",
    "for i in range(int(length)):\n",
    "    s_names.append(results[i].h4.a.text)\n",
    "    post_dates1 = results[i].find_all('p')[1].text   \n",
    "    closure_date1 = results[i].find_all('p')[-1].text\n",
    "    only_close_date = closure_date1.split(\".\")\n",
    "    only_close_date2 = \" \".join(only_close_date[-1].split(\" \")[2:-1])\n",
    "    post_dates2 =  \" \".join(post_dates1.split(\" \")[36:39])\n",
    "    post_dates.append(post_dates2)\n",
    "    closure_date.append(only_close_date2)\n"
   ]
  },
  {
   "cell_type": "code",
   "execution_count": 152,
   "id": "673b8cd0",
   "metadata": {},
   "outputs": [
    {
     "data": {
      "text/html": [
       "<div>\n",
       "<style scoped>\n",
       "    .dataframe tbody tr th:only-of-type {\n",
       "        vertical-align: middle;\n",
       "    }\n",
       "\n",
       "    .dataframe tbody tr th {\n",
       "        vertical-align: top;\n",
       "    }\n",
       "\n",
       "    .dataframe thead th {\n",
       "        text-align: right;\n",
       "    }\n",
       "</style>\n",
       "<table border=\"1\" class=\"dataframe\">\n",
       "  <thead>\n",
       "    <tr style=\"text-align: right;\">\n",
       "      <th></th>\n",
       "      <th>Date Added</th>\n",
       "      <th>Scholarchip</th>\n",
       "      <th>Closing Date</th>\n",
       "    </tr>\n",
       "  </thead>\n",
       "  <tbody>\n",
       "    <tr>\n",
       "      <th>0</th>\n",
       "      <td>18 October 2021</td>\n",
       "      <td>Malawi Wellcome Trust Pre-MSC and Pre-PhD Inte...</td>\n",
       "      <td>01 November 2021                   \\n         ...</td>\n",
       "    </tr>\n",
       "    <tr>\n",
       "      <th>1</th>\n",
       "      <td>13 October 2021</td>\n",
       "      <td>University of Oslo NORAD’s NORHED II  PhD and ...</td>\n",
       "      <td>05 November 2021                   \\n         ...</td>\n",
       "    </tr>\n",
       "    <tr>\n",
       "      <th>2</th>\n",
       "      <td>22 September 2021</td>\n",
       "      <td>Nutrition 4 Health Activity Scholarship Opport...</td>\n",
       "      <td>04 October 2021                   \\n          ...</td>\n",
       "    </tr>\n",
       "    <tr>\n",
       "      <th>3</th>\n",
       "      <td>15 September 2021</td>\n",
       "      <td>The Global Learning Scholarship Program (GLSP)</td>\n",
       "      <td>16 December 2021                   \\n         ...</td>\n",
       "    </tr>\n",
       "    <tr>\n",
       "      <th>4</th>\n",
       "      <td>25 August 2021</td>\n",
       "      <td>The Schlumberger Foundation Faculty for the Fu...</td>\n",
       "      <td>05 November 2021                   \\n         ...</td>\n",
       "    </tr>\n",
       "  </tbody>\n",
       "</table>\n",
       "</div>"
      ],
      "text/plain": [
       "          Date Added                                        Scholarchip  \\\n",
       "0    18 October 2021  Malawi Wellcome Trust Pre-MSC and Pre-PhD Inte...   \n",
       "1    13 October 2021  University of Oslo NORAD’s NORHED II  PhD and ...   \n",
       "2  22 September 2021  Nutrition 4 Health Activity Scholarship Opport...   \n",
       "3  15 September 2021     The Global Learning Scholarship Program (GLSP)   \n",
       "4     25 August 2021  The Schlumberger Foundation Faculty for the Fu...   \n",
       "\n",
       "                                        Closing Date  \n",
       "0  01 November 2021                   \\n         ...  \n",
       "1  05 November 2021                   \\n         ...  \n",
       "2  04 October 2021                   \\n          ...  \n",
       "3  16 December 2021                   \\n         ...  \n",
       "4  05 November 2021                   \\n         ...  "
      ]
     },
     "execution_count": 152,
     "metadata": {},
     "output_type": "execute_result"
    }
   ],
   "source": [
    "df = pd.DataFrame({'Date Added': post_dates, 'Scholarchip': s_names, 'Closing Date':closure_date})\n",
    "df.head()"
   ]
  },
  {
   "cell_type": "code",
   "execution_count": null,
   "id": "db6be785",
   "metadata": {},
   "outputs": [],
   "source": []
  },
  {
   "cell_type": "code",
   "execution_count": null,
   "id": "2ca349a5",
   "metadata": {},
   "outputs": [],
   "source": []
  }
 ],
 "metadata": {
  "kernelspec": {
   "display_name": "Python 3",
   "language": "python",
   "name": "python3"
  },
  "language_info": {
   "codemirror_mode": {
    "name": "ipython",
    "version": 3
   },
   "file_extension": ".py",
   "mimetype": "text/x-python",
   "name": "python",
   "nbconvert_exporter": "python",
   "pygments_lexer": "ipython3",
   "version": "3.8.8"
  }
 },
 "nbformat": 4,
 "nbformat_minor": 5
}
